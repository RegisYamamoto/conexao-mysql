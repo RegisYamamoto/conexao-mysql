{
 "cells": [
  {
   "cell_type": "code",
   "execution_count": 2,
   "metadata": {
    "scrolled": true
   },
   "outputs": [
    {
     "name": "stdout",
     "output_type": "stream",
     "text": [
      "   id               nome\n",
      "0   1        Informática\n",
      "1   2         Escritório\n",
      "2   3  Cama mesa e banho\n",
      "3   4        Eletrônicos\n",
      "4   5         Jardinagem\n",
      "5   6          Decoração\n",
      "6   7         Perfumaria\n"
     ]
    }
   ],
   "source": [
    "import mysql.connector\n",
    "import pandas as pd\n",
    "import seaborn as sns\n",
    "import matplotlib.pyplot as plt\n",
    "\n",
    "conn = mysql.connector.connect(user='root', password='1234',\n",
    "                              host='localhost',\n",
    "                              database='cursomc')\n",
    "\n",
    "data = \"\"\"SELECT * FROM categoria\"\"\"\n",
    "\n",
    "acessos = pd.read_sql_query(data, con=conn)\n",
    "\n",
    "print(acessos)\n",
    "\n",
    "conn.close()\n",
    "\n"
   ]
  }
 ],
 "metadata": {
  "kernelspec": {
   "display_name": "myenv",
   "language": "python",
   "name": "myenv"
  },
  "language_info": {
   "codemirror_mode": {
    "name": "ipython",
    "version": 3
   },
   "file_extension": ".py",
   "mimetype": "text/x-python",
   "name": "python",
   "nbconvert_exporter": "python",
   "pygments_lexer": "ipython3",
   "version": "3.7.4"
  }
 },
 "nbformat": 4,
 "nbformat_minor": 2
}
